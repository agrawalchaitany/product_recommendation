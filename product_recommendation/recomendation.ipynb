{
 "cells": [
  {
   "cell_type": "code",
   "execution_count": 25,
   "id": "7e67dd59-6369-475f-bd03-2bb647373d75",
   "metadata": {},
   "outputs": [
    {
     "name": "stdout",
     "output_type": "stream",
     "text": [
      "Requirement already satisfied: requests in c:\\users\\dell\\appdata\\local\\programs\\python\\python312\\lib\\site-packages (2.32.3)\n",
      "Requirement already satisfied: charset-normalizer<4,>=2 in c:\\users\\dell\\appdata\\local\\programs\\python\\python312\\lib\\site-packages (from requests) (3.3.0)\n",
      "Requirement already satisfied: idna<4,>=2.5 in c:\\users\\dell\\appdata\\local\\programs\\python\\python312\\lib\\site-packages (from requests) (3.4)\n",
      "Requirement already satisfied: urllib3<3,>=1.21.1 in c:\\users\\dell\\appdata\\local\\programs\\python\\python312\\lib\\site-packages (from requests) (1.26.18)\n",
      "Requirement already satisfied: certifi>=2017.4.17 in c:\\users\\dell\\appdata\\local\\programs\\python\\python312\\lib\\site-packages (from requests) (2023.7.22)\n",
      "Requirement already satisfied: beautifulsoup4 in c:\\users\\dell\\appdata\\local\\programs\\python\\python312\\lib\\site-packages (4.12.3)\n",
      "Requirement already satisfied: soupsieve>1.2 in c:\\users\\dell\\appdata\\local\\programs\\python\\python312\\lib\\site-packages (from beautifulsoup4) (2.5)\n",
      "Requirement already satisfied: pandas in c:\\users\\dell\\appdata\\local\\programs\\python\\python312\\lib\\site-packages (2.1.1)\n",
      "Requirement already satisfied: numpy>=1.26.0 in c:\\users\\dell\\appdata\\local\\programs\\python\\python312\\lib\\site-packages (from pandas) (1.26.0)\n",
      "Requirement already satisfied: python-dateutil>=2.8.2 in c:\\users\\dell\\appdata\\local\\programs\\python\\python312\\lib\\site-packages (from pandas) (2.8.2)\n",
      "Requirement already satisfied: pytz>=2020.1 in c:\\users\\dell\\appdata\\local\\programs\\python\\python312\\lib\\site-packages (from pandas) (2023.3.post1)\n",
      "Requirement already satisfied: tzdata>=2022.1 in c:\\users\\dell\\appdata\\local\\programs\\python\\python312\\lib\\site-packages (from pandas) (2023.3)\n",
      "Requirement already satisfied: six>=1.5 in c:\\users\\dell\\appdata\\local\\programs\\python\\python312\\lib\\site-packages (from python-dateutil>=2.8.2->pandas) (1.16.0)\n",
      "Requirement already satisfied: scikit-learn in c:\\users\\dell\\appdata\\local\\programs\\python\\python312\\lib\\site-packages (1.4.1.post1)\n",
      "Requirement already satisfied: numpy<2.0,>=1.19.5 in c:\\users\\dell\\appdata\\local\\programs\\python\\python312\\lib\\site-packages (from scikit-learn) (1.26.0)\n",
      "Requirement already satisfied: scipy>=1.6.0 in c:\\users\\dell\\appdata\\local\\programs\\python\\python312\\lib\\site-packages (from scikit-learn) (1.12.0)\n",
      "Requirement already satisfied: joblib>=1.2.0 in c:\\users\\dell\\appdata\\local\\programs\\python\\python312\\lib\\site-packages (from scikit-learn) (1.3.2)\n",
      "Requirement already satisfied: threadpoolctl>=2.0.0 in c:\\users\\dell\\appdata\\local\\programs\\python\\python312\\lib\\site-packages (from scikit-learn) (3.3.0)\n"
     ]
    }
   ],
   "source": [
    "!pip install requests\n",
    "!pip install beautifulsoup4\n",
    "!pip install pandas\n",
    "!pip install scikit-learn"
   ]
  },
  {
   "cell_type": "code",
   "execution_count": 9,
   "id": "8cd9aa69-936e-4f53-a4d7-1397925d0ba5",
   "metadata": {},
   "outputs": [
    {
     "name": "stdout",
     "output_type": "stream",
     "text": [
      "Requirement already satisfied: tqdm in c:\\users\\dell\\appdata\\local\\programs\\python\\python312\\lib\\site-packages (4.66.2)\n",
      "Requirement already satisfied: colorama in c:\\users\\dell\\appdata\\local\\programs\\python\\python312\\lib\\site-packages (from tqdm) (0.4.6)\n"
     ]
    }
   ],
   "source": [
    "!pip install tqdm"
   ]
  },
  {
   "cell_type": "code",
   "execution_count": 1,
   "id": "bb115253-3693-4c3a-a005-a261c24aa5de",
   "metadata": {},
   "outputs": [],
   "source": [
    "from tqdm.notebook import tqdm"
   ]
  },
  {
   "cell_type": "code",
   "execution_count": 2,
   "id": "a9147630-0e08-4fb7-b9da-bcae1796853b",
   "metadata": {},
   "outputs": [],
   "source": [
    "import requests\n",
    "from bs4 import BeautifulSoup\n",
    "import pandas as pd\n",
    "from sklearn.metrics.pairwise import cosine_similarity\n",
    "import time\n",
    "import random\n",
    "\n",
    "def scrape_amazon_product_data(url):\n",
    "    headers = {\n",
    "        'User-Agent': 'Mozilla/5.0 (Windows NT 10.0; Win64; x64) AppleWebKit/537.36 (KHTML, like Gecko) Chrome/91.0.4472.124 Safari/537.36'\n",
    "    }\n",
    "    \n",
    "    # Request the webpage\n",
    "    response = requests.get(url, headers=headers)\n",
    "    soup = BeautifulSoup(response.content, 'html.parser')\n",
    "    \n",
    "    products = []\n",
    "    \n",
    "    # Select product listings\n",
    "    for product in soup.select('.s-main-slot .s-result-item'):\n",
    "        try:\n",
    "            # Extract product name\n",
    "            name_elem = product.select_one('h2 a span')\n",
    "            name = name_elem.text.strip() if name_elem else None\n",
    "            \n",
    "            # Extract product price\n",
    "            price_elem = product.select_one('.a-price .a-offscreen')\n",
    "            price = float(price_elem.text.replace('$', '').replace(',', '').strip()) if price_elem else None\n",
    "            \n",
    "            # Extract product rating\n",
    "            rating_elem = product.select_one('.a-icon-alt')\n",
    "            rating = float(rating_elem.text.split()[0]) if rating_elem else None\n",
    "            \n",
    "            # Only add products with all details available\n",
    "            if name and price is not None and rating is not None:\n",
    "                products.append({\n",
    "                    'name': name,\n",
    "                    'price': price,\n",
    "                    'rating': rating\n",
    "                })\n",
    "        except (AttributeError, ValueError) as e:\n",
    "            continue\n",
    "    \n",
    "    return products"
   ]
  },
  {
   "cell_type": "code",
   "execution_count": 30,
   "id": "d095f26c-9087-4d47-898c-39b68b8d54a1",
   "metadata": {},
   "outputs": [
    {
     "name": "stdin",
     "output_type": "stream",
     "text": [
      "Enter the product you want to recommmend :  laptops\n"
     ]
    },
    {
     "data": {
      "application/vnd.jupyter.widget-view+json": {
       "model_id": "f115df69b6534486944d45fb6ff23ae6",
       "version_major": 2,
       "version_minor": 0
      },
      "text/plain": [
       "  0%|          | 0/99 [00:00<?, ?it/s]"
      ]
     },
     "metadata": {},
     "output_type": "display_data"
    },
    {
     "data": {
      "text/html": [
       "<div>\n",
       "<style scoped>\n",
       "    .dataframe tbody tr th:only-of-type {\n",
       "        vertical-align: middle;\n",
       "    }\n",
       "\n",
       "    .dataframe tbody tr th {\n",
       "        vertical-align: top;\n",
       "    }\n",
       "\n",
       "    .dataframe thead th {\n",
       "        text-align: right;\n",
       "    }\n",
       "</style>\n",
       "<table border=\"1\" class=\"dataframe\">\n",
       "  <thead>\n",
       "    <tr style=\"text-align: right;\">\n",
       "      <th></th>\n",
       "      <th>name</th>\n",
       "      <th>price</th>\n",
       "      <th>rating</th>\n",
       "    </tr>\n",
       "  </thead>\n",
       "  <tbody>\n",
       "    <tr>\n",
       "      <th>0</th>\n",
       "      <td>HP Newest 14\" Ultral Light Laptop for Students...</td>\n",
       "      <td>249.99</td>\n",
       "      <td>4.1</td>\n",
       "    </tr>\n",
       "    <tr>\n",
       "      <th>1</th>\n",
       "      <td>HP 17 Laptop, 17.3” HD+ Display, 11th Gen Inte...</td>\n",
       "      <td>499.00</td>\n",
       "      <td>4.3</td>\n",
       "    </tr>\n",
       "    <tr>\n",
       "      <th>2</th>\n",
       "      <td>Acer Aspire 3 A315-24P-R7VH Slim Laptop | 15.6...</td>\n",
       "      <td>299.99</td>\n",
       "      <td>4.4</td>\n",
       "    </tr>\n",
       "    <tr>\n",
       "      <th>3</th>\n",
       "      <td>SGIN Laptop Computer, 15.6 Inch Laptops with 1...</td>\n",
       "      <td>259.99</td>\n",
       "      <td>4.3</td>\n",
       "    </tr>\n",
       "    <tr>\n",
       "      <th>4</th>\n",
       "      <td>Lenovo IdeaPad 1 Laptop, 15.6” FHD Display, AM...</td>\n",
       "      <td>329.99</td>\n",
       "      <td>4.3</td>\n",
       "    </tr>\n",
       "  </tbody>\n",
       "</table>\n",
       "</div>"
      ],
      "text/plain": [
       "                                                name   price  rating\n",
       "0  HP Newest 14\" Ultral Light Laptop for Students...  249.99     4.1\n",
       "1  HP 17 Laptop, 17.3” HD+ Display, 11th Gen Inte...  499.00     4.3\n",
       "2  Acer Aspire 3 A315-24P-R7VH Slim Laptop | 15.6...  299.99     4.4\n",
       "3  SGIN Laptop Computer, 15.6 Inch Laptops with 1...  259.99     4.3\n",
       "4  Lenovo IdeaPad 1 Laptop, 15.6” FHD Display, AM...  329.99     4.3"
      ]
     },
     "execution_count": 30,
     "metadata": {},
     "output_type": "execute_result"
    }
   ],
   "source": [
    "# Scrape data from Amazon\n",
    "product= input(\"Enter the product you want to recommmend for : \")\n",
    "base_url = 'https://www.amazon.com/s?k='+ product  # Example search for laptops\n",
    "scraped_data = []\n",
    "for i in tqdm(range(1, 100)):  # The website has 1000 pages\n",
    "    url = base_url.format(i)\n",
    "    scraped_data.extend(scrape_amazon_product_data(url))\n",
    "\n",
    "# Create a DataFrame from the scraped data\n",
    "df = pd.DataFrame(scraped_data)\n",
    "df.head()"
   ]
  },
  {
   "cell_type": "code",
   "execution_count": 31,
   "id": "25273541-bd2b-4bfa-a728-13cc7a23d831",
   "metadata": {},
   "outputs": [
    {
     "name": "stdout",
     "output_type": "stream",
     "text": [
      "    user_id                                       product_name  rating\n",
      "0         4  15.6\" Laptop Computer, Gaming Laptop,16GB RAM ...       4\n",
      "1         1  ACEMAGIC Laptop Computer AMD Ryzen 7 5700U 16....       2\n",
      "2         3  HP Notebook Laptop, 15.6\" HD Touchscreen, Inte...       1\n",
      "3         5  HP Portable Laptop, Student and Business, 14\" ...       4\n",
      "4         2  Lenovo IdeaPad 1 Laptop, 15.6” FHD Display, AM...       1\n",
      "5         5  15.6\" Laptop Computer, Gaming Laptop,16GB RAM ...       4\n",
      "6         2  HP Notebook Laptop, 15.6\" HD Touchscreen, Inte...       4\n",
      "7         1  ASUS 15.6” Vivobook Go Laptop, Intel Celeron N...       3\n",
      "8         2  HP 15.6\" Portable Laptop (Include 1 Year Micro...       3\n",
      "9         1  HP Newest 14\" Ultral Light Laptop for Students...       3\n",
      "10        4  300W AC Adapter Fit for Lenovo ThinkPad Y9000p...       5\n",
      "11        3  HP 17 Laptop, 17.3” HD+ Display, 11th Gen Inte...       2\n",
      "12        2  Laptop Computer, 16GB LPDDR5 RAM Laptop 512GB ...       2\n",
      "13        5  300W AC Adapter Fit for Lenovo ThinkPad Y9000p...       3\n",
      "14        5  Genuine 230W 19.5V 11.8A AC Charger fit for HP...       4\n",
      "15        3  ACEMAGIC Laptop Computer 16-inch IPS with Inte...       5\n",
      "16        3  jumper Laptop 17.3\", Laptops Computer with 24G...       4\n",
      "17        5  SGIN Laptop Computer, 15.6 Inch Laptops with 1...       4\n",
      "18        4  HP 15.6\" Portable Laptop (Include 1 Year Micro...       4\n",
      "19        2  Morostron 15.6\" full Metal Laptop Quad-Core Pr...       2\n"
     ]
    }
   ],
   "source": [
    "# Simulate user ratings for a realistic scenario\n",
    "user_ids = [1, 2, 3, 4, 5]  # Example user IDs\n",
    "num_ratings = 20  # Total number of ratings to simulate\n",
    "\n",
    "user_ratings = []\n",
    "for _ in range(num_ratings):\n",
    "    user_id = random.choice(user_ids)  # Randomly select a user ID\n",
    "    product_name = random.choice(df['name'].tolist())  # Randomly select a product name\n",
    "    rating = random.randint(1, 5)  # Randomly assign a rating between 1 and 5\n",
    "    user_ratings.append({'user_id': user_id, 'product_name': product_name, 'rating': rating})\n",
    "\n",
    "user_ratings_df = pd.DataFrame(user_ratings)\n",
    "print(user_ratings_df)"
   ]
  },
  {
   "cell_type": "code",
   "execution_count": 32,
   "id": "9e3c7ff3-8ed7-4e9b-b980-60970246bae4",
   "metadata": {
    "scrolled": true
   },
   "outputs": [
    {
     "name": "stdout",
     "output_type": "stream",
     "text": [
      "Top 5 product recommendations for User 4:\n",
      "\n",
      " Genuine 230W 19.5V 11.8A AC Charger fit for HP Omen X 2S 15, HP Z2 Mini G4, Zbook 15 G1 G2 17 G2, HP Thunderbolt Dock 230W G2 2UK38AA 924942-001 925141-850 Gaming Laptop Power Supply Adapter: Predicted rating = 1.10\n",
      "\n",
      " HP Portable Laptop, Student and Business, 14\" HD Display, Intel Quad-Core N4120, 16GB DDR4 RAM, 64GB eMMC, 1 Year Office 365, Webcam, RJ-45, HDMI, Wi-Fi, Windows 11 Home, Silver: Predicted rating = 1.10\n",
      "\n",
      " SGIN Laptop Computer, 15.6 Inch Laptops with 12GB RAM 512GB SSD, Celeron N5095 Quad-Core(Up to 2.8GHz), 1920 * 1080P Notebook, 38Wh Battery, Mini HDMI, Webcam, USB 3.0, 5G WiFi, Type-C: Predicted rating = 1.10\n",
      "\n",
      " HP Notebook Laptop, 15.6\" HD Touchscreen, Intel Core i3-1115G4 Processor, 32GB RAM, 1TB PCIe SSD, Webcam, Type-C, HDMI, SD Card Reader, Wi-Fi, Windows 11 Home, Silver: Predicted rating = 0.62\n",
      "\n",
      " Laptop Computer, 16GB LPDDR5 RAM Laptop 512GB NVMe SSD, Intel Quad-Core N100, 15.6 Inch 1080P IPS Display Windows 11 Pro Laptops, WiFi 6, BT 5.2, RJ45 Ethernet, Fingerprint, USB Type-C: Predicted rating = 0.31\n"
     ]
    }
   ],
   "source": [
    "# Aggregate ratings by taking the mean of duplicates\n",
    "user_ratings_agg = user_ratings_df.groupby(['user_id', 'product_name'])['rating'].mean().reset_index()\n",
    "\n",
    "# Create a user-item matrix\n",
    "user_item_matrix = user_ratings_agg.pivot(index='user_id', columns='product_name', values='rating').fillna(0)\n",
    "\n",
    "# Calculate cosine similarity between users\n",
    "user_similarity = cosine_similarity(user_item_matrix)\n",
    "\n",
    "# The rest of your code remains the same\n",
    "def get_recommendations(user_id, n=5):\n",
    "    user_row = user_item_matrix.loc[user_id]\n",
    "    similar_users = user_similarity[user_id - 1]  # Adjust for 0-based indexing\n",
    "    \n",
    "    # Get products the user hasn't rated\n",
    "    unrated_products = user_row[user_row == 0].index\n",
    "    \n",
    "    # Calculate predicted ratings\n",
    "    predicted_ratings = {}\n",
    "    for product in unrated_products:\n",
    "        product_ratings = user_item_matrix[product]\n",
    "        weighted_sum = sum(similar_users * product_ratings)\n",
    "        similarity_sum = sum(similar_users)\n",
    "        predicted_ratings[product] = weighted_sum / similarity_sum if similarity_sum != 0 else 0\n",
    "    \n",
    "    # Sort and return top N recommendations\n",
    "    sorted_recommendations = sorted(predicted_ratings.items(), key=lambda x: x[1], reverse=True)\n",
    "    return sorted_recommendations[:n]\n",
    "\n",
    "# Example usage\n",
    "user_id = 4\n",
    "recommendations = get_recommendations(user_id)\n",
    "print(f\"Top 5 product recommendations for User {user_id}:\")\n",
    "for product, predicted_rating in recommendations:\n",
    "    print(f\"\\n {product}: Predicted rating = {predicted_rating:.2f}\")"
   ]
  },
  {
   "cell_type": "code",
   "execution_count": 33,
   "id": "cbc19c53-3966-44fe-8971-7909b1b0e5fa",
   "metadata": {},
   "outputs": [],
   "source": [
    "df.to_csv('commerse_data.csv', index=False)\n",
    "user_ratings_df.to_csv('user_ratings.csv' , index=False)"
   ]
  },
  {
   "cell_type": "code",
   "execution_count": null,
   "id": "807a690f-3281-40d0-bf84-9433bf6bbecb",
   "metadata": {},
   "outputs": [],
   "source": []
  },
  {
   "cell_type": "code",
   "execution_count": null,
   "id": "de7fe13b-e32e-4d16-af38-b32ed99abc2b",
   "metadata": {},
   "outputs": [],
   "source": []
  }
 ],
 "metadata": {
  "kernelspec": {
   "display_name": "Python 3 (ipykernel)",
   "language": "python",
   "name": "python3"
  },
  "language_info": {
   "codemirror_mode": {
    "name": "ipython",
    "version": 3
   },
   "file_extension": ".py",
   "mimetype": "text/x-python",
   "name": "python",
   "nbconvert_exporter": "python",
   "pygments_lexer": "ipython3",
   "version": "3.12.1"
  }
 },
 "nbformat": 4,
 "nbformat_minor": 5
}
